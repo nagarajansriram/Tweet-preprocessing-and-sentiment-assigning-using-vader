{
 "cells": [
  {
   "cell_type": "code",
   "execution_count": 53,
   "metadata": {},
   "outputs": [],
   "source": [
    "import numpy as np \n",
    "import pandas as pd\n",
    "import matplotlib.pyplot as plt\n",
    "\n",
    "import seaborn as sns\n",
    "from pandas import Timestamp\n",
    "import string\n",
    "import re\n",
    "from nltk.corpus import stopwords\n",
    "from nltk import word_tokenize\n",
    "STOPWORDS = set(stopwords.words('english'))\n",
    "from bs4 import BeautifulSoup\n",
    "\n",
    "from IPython.core.interactiveshell import InteractiveShell\n"
   ]
  },
  {
   "cell_type": "code",
   "execution_count": 54,
   "metadata": {},
   "outputs": [
    {
     "data": {
      "text/html": [
       "<div>\n",
       "<style scoped>\n",
       "    .dataframe tbody tr th:only-of-type {\n",
       "        vertical-align: middle;\n",
       "    }\n",
       "\n",
       "    .dataframe tbody tr th {\n",
       "        vertical-align: top;\n",
       "    }\n",
       "\n",
       "    .dataframe thead th {\n",
       "        text-align: right;\n",
       "    }\n",
       "</style>\n",
       "<table border=\"1\" class=\"dataframe\">\n",
       "  <thead>\n",
       "    <tr style=\"text-align: right;\">\n",
       "      <th></th>\n",
       "      <th>Unnamed: 0</th>\n",
       "      <th>tweets</th>\n",
       "      <th>proc_tweets</th>\n",
       "      <th>sentiment_compound_polarity</th>\n",
       "      <th>sentiment_neutral</th>\n",
       "      <th>sentiment_pos</th>\n",
       "      <th>sentiment_negative</th>\n",
       "      <th>sentiment</th>\n",
       "    </tr>\n",
       "  </thead>\n",
       "  <tbody>\n",
       "    <tr>\n",
       "      <th>0</th>\n",
       "      <td>4/9/2020 16:31</td>\n",
       "      <td>b'RT @BTsipa: Doing nightshift \\xf0\\x9f\\x98\\xa...</td>\n",
       "      <td>NaN</td>\n",
       "      <td>NaN</td>\n",
       "      <td>NaN</td>\n",
       "      <td>NaN</td>\n",
       "      <td>NaN</td>\n",
       "      <td>NaN</td>\n",
       "    </tr>\n",
       "    <tr>\n",
       "      <th>1</th>\n",
       "      <td>4/9/2020 16:30</td>\n",
       "      <td>b\"RT @JustinaBenson10: Madam couldn't take it ...</td>\n",
       "      <td>NaN</td>\n",
       "      <td>NaN</td>\n",
       "      <td>NaN</td>\n",
       "      <td>NaN</td>\n",
       "      <td>NaN</td>\n",
       "      <td>NaN</td>\n",
       "    </tr>\n",
       "    <tr>\n",
       "      <th>2</th>\n",
       "      <td>4/9/2020 16:30</td>\n",
       "      <td>b'RT @Mfundoyakhe_S: As the wife was going thr...</td>\n",
       "      <td>NaN</td>\n",
       "      <td>NaN</td>\n",
       "      <td>NaN</td>\n",
       "      <td>NaN</td>\n",
       "      <td>NaN</td>\n",
       "      <td>NaN</td>\n",
       "    </tr>\n",
       "    <tr>\n",
       "      <th>3</th>\n",
       "      <td>4/9/2020 16:30</td>\n",
       "      <td>b\"RT @MberiTakudzw: Pallo's work \\xe2\\x9c\\x8c\\...</td>\n",
       "      <td>NaN</td>\n",
       "      <td>NaN</td>\n",
       "      <td>NaN</td>\n",
       "      <td>NaN</td>\n",
       "      <td>NaN</td>\n",
       "      <td>NaN</td>\n",
       "    </tr>\n",
       "    <tr>\n",
       "      <th>4</th>\n",
       "      <td>4/9/2020 16:30</td>\n",
       "      <td>b'\"We do as he commands\"\\n#HumanityIsNotAVirus...</td>\n",
       "      <td>NaN</td>\n",
       "      <td>NaN</td>\n",
       "      <td>NaN</td>\n",
       "      <td>NaN</td>\n",
       "      <td>NaN</td>\n",
       "      <td>NaN</td>\n",
       "    </tr>\n",
       "  </tbody>\n",
       "</table>\n",
       "</div>"
      ],
      "text/plain": [
       "       Unnamed: 0                                             tweets  \\\n",
       "0  4/9/2020 16:31  b'RT @BTsipa: Doing nightshift \\xf0\\x9f\\x98\\xa...   \n",
       "1  4/9/2020 16:30  b\"RT @JustinaBenson10: Madam couldn't take it ...   \n",
       "2  4/9/2020 16:30  b'RT @Mfundoyakhe_S: As the wife was going thr...   \n",
       "3  4/9/2020 16:30  b\"RT @MberiTakudzw: Pallo's work \\xe2\\x9c\\x8c\\...   \n",
       "4  4/9/2020 16:30  b'\"We do as he commands\"\\n#HumanityIsNotAVirus...   \n",
       "\n",
       "   proc_tweets  sentiment_compound_polarity  sentiment_neutral  sentiment_pos  \\\n",
       "0          NaN                          NaN                NaN            NaN   \n",
       "1          NaN                          NaN                NaN            NaN   \n",
       "2          NaN                          NaN                NaN            NaN   \n",
       "3          NaN                          NaN                NaN            NaN   \n",
       "4          NaN                          NaN                NaN            NaN   \n",
       "\n",
       "   sentiment_negative  sentiment  \n",
       "0                 NaN        NaN  \n",
       "1                 NaN        NaN  \n",
       "2                 NaN        NaN  \n",
       "3                 NaN        NaN  \n",
       "4                 NaN        NaN  "
      ]
     },
     "execution_count": 54,
     "metadata": {},
     "output_type": "execute_result"
    }
   ],
   "source": [
    "df = pd.read_csv('lock.csv')\n",
    "df.shape\n",
    "df.head()"
   ]
  },
  {
   "cell_type": "code",
   "execution_count": 55,
   "metadata": {},
   "outputs": [
    {
     "name": "stdout",
     "output_type": "stream",
     "text": [
      "b'RT @99acresIndia: #RealEstateNews | Private equity investment in #RealEstate to decline in 2020 due to #Coronavirus pandemic! Read more: ht\\xe2\\x80\\xa6'\n"
     ]
    }
   ],
   "source": [
    "print(df.tweets[500])"
   ]
  },
  {
   "cell_type": "code",
   "execution_count": 56,
   "metadata": {},
   "outputs": [],
   "source": [
    "df = pd.read_csv('lock.csv')"
   ]
  },
  {
   "cell_type": "code",
   "execution_count": 57,
   "metadata": {},
   "outputs": [
    {
     "name": "stdout",
     "output_type": "stream",
     "text": [
      "b'RT @99acresIndia: #RealEstateNews | Private equity investment in #RealEstate to decline in 2020 due to #Coronavirus pandemic! Read more: ht\\xe2\\x80\\xa6'\n"
     ]
    }
   ],
   "source": [
    "print(df.tweets[500])"
   ]
  },
  {
   "cell_type": "code",
   "execution_count": 60,
   "metadata": {},
   "outputs": [],
   "source": [
    "def remove_pattern(input_txt, pattern):\n",
    "    r = re.findall(pattern, input_txt)\n",
    "    for i in r:\n",
    "        input_txt = re.sub(i, '', input_txt)\n",
    "        \n",
    "    return input_txt"
   ]
  },
  {
   "cell_type": "code",
   "execution_count": 61,
   "metadata": {},
   "outputs": [],
   "source": [
    "df[\"proc_tweets\"] = np.vectorize(remove_pattern)(df[\"tweets\"], \"@[\\w]*\")\n",
    "\n",
    "df[\"proc_tweets\"] = np.vectorize(remove_pattern)(df[\"tweets\"], \"#[\\w+]*\")\n",
    "#df[\"proc_tweet\"] = np.vectorize(remove_pattern)(df[\"tweet\"], \"d[\\w+]*\")\n",
    "df['proc_tweets'] = df['proc_tweets'].str.replace(\"[^a-zA-Z#]\", \" \")\n",
    "\n",
    "df['proc_tweets'] = df['proc_tweets'].apply(lambda x: ' '.join([w for w in x.split() if len(w)>3]))"
   ]
  },
  {
   "cell_type": "code",
   "execution_count": 63,
   "metadata": {},
   "outputs": [
    {
     "name": "stdout",
     "output_type": "stream",
     "text": [
      "acresIndia Private equity investment decline pandemic Read more\n"
     ]
    }
   ],
   "source": [
    "print(df.proc_tweets[500])"
   ]
  },
  {
   "cell_type": "code",
   "execution_count": 62,
   "metadata": {},
   "outputs": [
    {
     "name": "stdout",
     "output_type": "stream",
     "text": [
      "acresIndia Private equity investment decline pandemic Read more\n"
     ]
    }
   ],
   "source": [
    "print(df.proc_tweets[500])"
   ]
  },
  {
   "cell_type": "code",
   "execution_count": 64,
   "metadata": {},
   "outputs": [],
   "source": [
    "from nltk.sentiment.vader import SentimentIntensityAnalyzer\n",
    "from nltk.sentiment.util import *\n",
    "\n",
    "from nltk import tokenize"
   ]
  },
  {
   "cell_type": "code",
   "execution_count": 65,
   "metadata": {},
   "outputs": [],
   "source": [
    "\n",
    "import nltk"
   ]
  },
  {
   "cell_type": "code",
   "execution_count": 66,
   "metadata": {},
   "outputs": [
    {
     "name": "stderr",
     "output_type": "stream",
     "text": [
      "[nltk_data] Downloading package vader_lexicon to\n",
      "[nltk_data]     C:\\Users\\SRI\\AppData\\Roaming\\nltk_data...\n",
      "[nltk_data]   Package vader_lexicon is already up-to-date!\n"
     ]
    },
    {
     "data": {
      "text/plain": [
       "True"
      ]
     },
     "execution_count": 66,
     "metadata": {},
     "output_type": "execute_result"
    }
   ],
   "source": [
    "nltk.download('vader_lexicon')"
   ]
  },
  {
   "cell_type": "code",
   "execution_count": 76,
   "metadata": {},
   "outputs": [],
   "source": [
    "sid = SentimentIntensityAnalyzer()"
   ]
  },
  {
   "cell_type": "code",
   "execution_count": 91,
   "metadata": {},
   "outputs": [
    {
     "name": "stdout",
     "output_type": "stream",
     "text": [
      "0.0\n"
     ]
    }
   ],
   "source": [
    "df['sentiment_compound_polarity']=df.tweets.apply(lambda x:sid.polarity_scores(x)['compound'])\n",
    "df['sentiment_neutral']=df.tweets.apply(lambda x:sid.polarity_scores(x)['neu'])\n",
    "df['sentiment_negative']=df.tweets.apply(lambda x:sid.polarity_scores(x)['neg'])\n",
    "df['sentiment_pos']=df.tweets.apply(lambda x:sid.polarity_scores(x)['pos'])"
   ]
  },
  {
   "cell_type": "code",
   "execution_count": 92,
   "metadata": {},
   "outputs": [
    {
     "data": {
      "text/html": [
       "<div>\n",
       "<style scoped>\n",
       "    .dataframe tbody tr th:only-of-type {\n",
       "        vertical-align: middle;\n",
       "    }\n",
       "\n",
       "    .dataframe tbody tr th {\n",
       "        vertical-align: top;\n",
       "    }\n",
       "\n",
       "    .dataframe thead th {\n",
       "        text-align: right;\n",
       "    }\n",
       "</style>\n",
       "<table border=\"1\" class=\"dataframe\">\n",
       "  <thead>\n",
       "    <tr style=\"text-align: right;\">\n",
       "      <th></th>\n",
       "      <th>Unnamed: 0</th>\n",
       "      <th>tweets</th>\n",
       "      <th>proc_tweets</th>\n",
       "      <th>sentiment_compound_polarity</th>\n",
       "      <th>sentiment_neutral</th>\n",
       "      <th>sentiment_pos</th>\n",
       "      <th>sentiment_negative</th>\n",
       "      <th>sentiment</th>\n",
       "    </tr>\n",
       "  </thead>\n",
       "  <tbody>\n",
       "    <tr>\n",
       "      <th>0</th>\n",
       "      <td>4/9/2020 16:31</td>\n",
       "      <td>b'RT @BTsipa: Doing nightshift \\xf0\\x9f\\x98\\xa...</td>\n",
       "      <td>BTsipa Doing nightshift https UtNU</td>\n",
       "      <td>0.0000</td>\n",
       "      <td>1.000</td>\n",
       "      <td>0.000</td>\n",
       "      <td>0.000</td>\n",
       "      <td>NaN</td>\n",
       "    </tr>\n",
       "    <tr>\n",
       "      <th>1</th>\n",
       "      <td>4/9/2020 16:30</td>\n",
       "      <td>b\"RT @JustinaBenson10: Madam couldn't take it ...</td>\n",
       "      <td>JustinaBenson Madam couldn take again Nigerian...</td>\n",
       "      <td>-0.5267</td>\n",
       "      <td>0.833</td>\n",
       "      <td>0.000</td>\n",
       "      <td>0.167</td>\n",
       "      <td>NaN</td>\n",
       "    </tr>\n",
       "    <tr>\n",
       "      <th>2</th>\n",
       "      <td>4/9/2020 16:30</td>\n",
       "      <td>b'RT @Mfundoyakhe_S: As the wife was going thr...</td>\n",
       "      <td>Mfundoyakhe wife going through chemotherapy se...</td>\n",
       "      <td>-0.0772</td>\n",
       "      <td>0.676</td>\n",
       "      <td>0.139</td>\n",
       "      <td>0.185</td>\n",
       "      <td>NaN</td>\n",
       "    </tr>\n",
       "    <tr>\n",
       "      <th>3</th>\n",
       "      <td>4/9/2020 16:30</td>\n",
       "      <td>b\"RT @MberiTakudzw: Pallo's work \\xe2\\x9c\\x8c\\...</td>\n",
       "      <td>MberiTakudzw Pallo work based Capetown also tr...</td>\n",
       "      <td>0.0000</td>\n",
       "      <td>1.000</td>\n",
       "      <td>0.000</td>\n",
       "      <td>0.000</td>\n",
       "      <td>NaN</td>\n",
       "    </tr>\n",
       "    <tr>\n",
       "      <th>4</th>\n",
       "      <td>4/9/2020 16:30</td>\n",
       "      <td>b'\"We do as he commands\"\\n#HumanityIsNotAVirus...</td>\n",
       "      <td>commands https kHuCrc</td>\n",
       "      <td>0.0000</td>\n",
       "      <td>1.000</td>\n",
       "      <td>0.000</td>\n",
       "      <td>0.000</td>\n",
       "      <td>NaN</td>\n",
       "    </tr>\n",
       "  </tbody>\n",
       "</table>\n",
       "</div>"
      ],
      "text/plain": [
       "       Unnamed: 0                                             tweets  \\\n",
       "0  4/9/2020 16:31  b'RT @BTsipa: Doing nightshift \\xf0\\x9f\\x98\\xa...   \n",
       "1  4/9/2020 16:30  b\"RT @JustinaBenson10: Madam couldn't take it ...   \n",
       "2  4/9/2020 16:30  b'RT @Mfundoyakhe_S: As the wife was going thr...   \n",
       "3  4/9/2020 16:30  b\"RT @MberiTakudzw: Pallo's work \\xe2\\x9c\\x8c\\...   \n",
       "4  4/9/2020 16:30  b'\"We do as he commands\"\\n#HumanityIsNotAVirus...   \n",
       "\n",
       "                                         proc_tweets  \\\n",
       "0                 BTsipa Doing nightshift https UtNU   \n",
       "1  JustinaBenson Madam couldn take again Nigerian...   \n",
       "2  Mfundoyakhe wife going through chemotherapy se...   \n",
       "3  MberiTakudzw Pallo work based Capetown also tr...   \n",
       "4                              commands https kHuCrc   \n",
       "\n",
       "   sentiment_compound_polarity  sentiment_neutral  sentiment_pos  \\\n",
       "0                       0.0000              1.000          0.000   \n",
       "1                      -0.5267              0.833          0.000   \n",
       "2                      -0.0772              0.676          0.139   \n",
       "3                       0.0000              1.000          0.000   \n",
       "4                       0.0000              1.000          0.000   \n",
       "\n",
       "   sentiment_negative  sentiment  \n",
       "0               0.000        NaN  \n",
       "1               0.167        NaN  \n",
       "2               0.185        NaN  \n",
       "3               0.000        NaN  \n",
       "4               0.000        NaN  "
      ]
     },
     "execution_count": 92,
     "metadata": {},
     "output_type": "execute_result"
    }
   ],
   "source": [
    "df.head(5)"
   ]
  },
  {
   "cell_type": "code",
   "execution_count": 94,
   "metadata": {},
   "outputs": [
    {
     "data": {
      "text/html": [
       "<div>\n",
       "<style scoped>\n",
       "    .dataframe tbody tr th:only-of-type {\n",
       "        vertical-align: middle;\n",
       "    }\n",
       "\n",
       "    .dataframe tbody tr th {\n",
       "        vertical-align: top;\n",
       "    }\n",
       "\n",
       "    .dataframe thead th {\n",
       "        text-align: right;\n",
       "    }\n",
       "</style>\n",
       "<table border=\"1\" class=\"dataframe\">\n",
       "  <thead>\n",
       "    <tr style=\"text-align: right;\">\n",
       "      <th></th>\n",
       "      <th>Unnamed: 0</th>\n",
       "      <th>tweets</th>\n",
       "      <th>proc_tweets</th>\n",
       "      <th>sentiment_compound_polarity</th>\n",
       "      <th>sentiment_neutral</th>\n",
       "      <th>sentiment_pos</th>\n",
       "      <th>sentiment_negative</th>\n",
       "      <th>sentiment</th>\n",
       "    </tr>\n",
       "  </thead>\n",
       "  <tbody>\n",
       "    <tr>\n",
       "      <th>0</th>\n",
       "      <td>4/9/2020 16:31</td>\n",
       "      <td>b'RT @BTsipa: Doing nightshift \\xf0\\x9f\\x98\\xa...</td>\n",
       "      <td>BTsipa Doing nightshift https UtNU</td>\n",
       "      <td>0.0000</td>\n",
       "      <td>1.000</td>\n",
       "      <td>0.000</td>\n",
       "      <td>0.000</td>\n",
       "      <td>NEUTRAL</td>\n",
       "    </tr>\n",
       "    <tr>\n",
       "      <th>1</th>\n",
       "      <td>4/9/2020 16:30</td>\n",
       "      <td>b\"RT @JustinaBenson10: Madam couldn't take it ...</td>\n",
       "      <td>JustinaBenson Madam couldn take again Nigerian...</td>\n",
       "      <td>-0.5267</td>\n",
       "      <td>0.833</td>\n",
       "      <td>0.000</td>\n",
       "      <td>0.167</td>\n",
       "      <td>NEGATIVE</td>\n",
       "    </tr>\n",
       "    <tr>\n",
       "      <th>2</th>\n",
       "      <td>4/9/2020 16:30</td>\n",
       "      <td>b'RT @Mfundoyakhe_S: As the wife was going thr...</td>\n",
       "      <td>Mfundoyakhe wife going through chemotherapy se...</td>\n",
       "      <td>-0.0772</td>\n",
       "      <td>0.676</td>\n",
       "      <td>0.139</td>\n",
       "      <td>0.185</td>\n",
       "      <td>NEGATIVE</td>\n",
       "    </tr>\n",
       "    <tr>\n",
       "      <th>3</th>\n",
       "      <td>4/9/2020 16:30</td>\n",
       "      <td>b\"RT @MberiTakudzw: Pallo's work \\xe2\\x9c\\x8c\\...</td>\n",
       "      <td>MberiTakudzw Pallo work based Capetown also tr...</td>\n",
       "      <td>0.0000</td>\n",
       "      <td>1.000</td>\n",
       "      <td>0.000</td>\n",
       "      <td>0.000</td>\n",
       "      <td>NEUTRAL</td>\n",
       "    </tr>\n",
       "    <tr>\n",
       "      <th>4</th>\n",
       "      <td>4/9/2020 16:30</td>\n",
       "      <td>b'\"We do as he commands\"\\n#HumanityIsNotAVirus...</td>\n",
       "      <td>commands https kHuCrc</td>\n",
       "      <td>0.0000</td>\n",
       "      <td>1.000</td>\n",
       "      <td>0.000</td>\n",
       "      <td>0.000</td>\n",
       "      <td>NEUTRAL</td>\n",
       "    </tr>\n",
       "  </tbody>\n",
       "</table>\n",
       "</div>"
      ],
      "text/plain": [
       "       Unnamed: 0                                             tweets  \\\n",
       "0  4/9/2020 16:31  b'RT @BTsipa: Doing nightshift \\xf0\\x9f\\x98\\xa...   \n",
       "1  4/9/2020 16:30  b\"RT @JustinaBenson10: Madam couldn't take it ...   \n",
       "2  4/9/2020 16:30  b'RT @Mfundoyakhe_S: As the wife was going thr...   \n",
       "3  4/9/2020 16:30  b\"RT @MberiTakudzw: Pallo's work \\xe2\\x9c\\x8c\\...   \n",
       "4  4/9/2020 16:30  b'\"We do as he commands\"\\n#HumanityIsNotAVirus...   \n",
       "\n",
       "                                         proc_tweets  \\\n",
       "0                 BTsipa Doing nightshift https UtNU   \n",
       "1  JustinaBenson Madam couldn take again Nigerian...   \n",
       "2  Mfundoyakhe wife going through chemotherapy se...   \n",
       "3  MberiTakudzw Pallo work based Capetown also tr...   \n",
       "4                              commands https kHuCrc   \n",
       "\n",
       "   sentiment_compound_polarity  sentiment_neutral  sentiment_pos  \\\n",
       "0                       0.0000              1.000          0.000   \n",
       "1                      -0.5267              0.833          0.000   \n",
       "2                      -0.0772              0.676          0.139   \n",
       "3                       0.0000              1.000          0.000   \n",
       "4                       0.0000              1.000          0.000   \n",
       "\n",
       "   sentiment_negative sentiment  \n",
       "0               0.000   NEUTRAL  \n",
       "1               0.167  NEGATIVE  \n",
       "2               0.185  NEGATIVE  \n",
       "3               0.000   NEUTRAL  \n",
       "4               0.000   NEUTRAL  "
      ]
     },
     "execution_count": 94,
     "metadata": {},
     "output_type": "execute_result"
    }
   ],
   "source": [
    "df['sentiment']=''\n",
    "df.loc[df.sentiment_compound_polarity>0,'sentiment']='POSITIVE'\n",
    "df.loc[df.sentiment_compound_polarity==0,'sentiment']='NEUTRAL'\n",
    "df.loc[df.sentiment_compound_polarity<0,'sentiment']='NEGATIVE'\n",
    "df.head()"
   ]
  },
  {
   "cell_type": "code",
   "execution_count": 108,
   "metadata": {},
   "outputs": [
    {
     "data": {
      "text/plain": [
       "Index(['Unnamed: 0', 'tweets', 'proc_tweets', 'sentiment_compound_polarity',\n",
       "       'sentiment_neutral', 'sentiment_pos', 'sentiment_negative',\n",
       "       'sentiment'],\n",
       "      dtype='object')"
      ]
     },
     "execution_count": 108,
     "metadata": {},
     "output_type": "execute_result"
    }
   ],
   "source": [
    "df.columns"
   ]
  },
  {
   "cell_type": "code",
   "execution_count": 99,
   "metadata": {},
   "outputs": [
    {
     "data": {
      "text/plain": [
       "(33383, 8)"
      ]
     },
     "execution_count": 99,
     "metadata": {},
     "output_type": "execute_result"
    }
   ],
   "source": [
    "df.shape\n",
    "## 8 - heading in the csv file 33383 tweets"
   ]
  },
  {
   "cell_type": "code",
   "execution_count": 110,
   "metadata": {},
   "outputs": [
    {
     "data": {
      "text/plain": [
       "POSITIVE    12713\n",
       "NEGATIVE    10477\n",
       "NEUTRAL     10193\n",
       "Name: sentiment, dtype: int64"
      ]
     },
     "execution_count": 110,
     "metadata": {},
     "output_type": "execute_result"
    }
   ],
   "source": [
    "df.sentiment.value_counts()          ### no. of tweets in each class"
   ]
  },
  {
   "cell_type": "code",
   "execution_count": 103,
   "metadata": {},
   "outputs": [
    {
     "name": "stdout",
     "output_type": "stream",
     "text": [
      "<class 'pandas.core.frame.DataFrame'>\n",
      "RangeIndex: 33383 entries, 0 to 33382\n",
      "Data columns (total 8 columns):\n",
      "Unnamed: 0                     33383 non-null object\n",
      "tweets                         33383 non-null object\n",
      "proc_tweets                    33383 non-null object\n",
      "sentiment_compound_polarity    33383 non-null float64\n",
      "sentiment_neutral              33383 non-null float64\n",
      "sentiment_pos                  33383 non-null float64\n",
      "sentiment_negative             33383 non-null float64\n",
      "sentiment                      33383 non-null object\n",
      "dtypes: float64(4), object(4)\n",
      "memory usage: 2.0+ MB\n"
     ]
    }
   ],
   "source": [
    "df.info(5)"
   ]
  },
  {
   "cell_type": "code",
   "execution_count": 97,
   "metadata": {},
   "outputs": [
    {
     "data": {
      "text/plain": [
       "<matplotlib.axes._subplots.AxesSubplot at 0x1e482802a90>"
      ]
     },
     "execution_count": 97,
     "metadata": {},
     "output_type": "execute_result"
    },
    {
     "data": {
      "image/png": "[encoded data removed]",
      "text/plain": [
       "<Figure size 432x288 with 1 Axes>"
      ]
     },
     "metadata": {
      "needs_background": "light"
     },
     "output_type": "display_data"
    }
   ],
   "source": [
    "df.sentiment.value_counts().plot(kind='bar',title=\"sentiment analysis\")"
   ]
  }
 ],
 "metadata": {
  "kernelspec": {
   "display_name": "Python 3",
   "language": "python",
   "name": "python3"
  },
  "language_info": {
   "codemirror_mode": {
    "name": "ipython",
    "version": 3
   },
   "file_extension": ".py",
   "mimetype": "text/x-python",
   "name": "python",
   "nbconvert_exporter": "python",
   "pygments_lexer": "ipython3",
   "version": "3.7.3"
  }
 },
 "nbformat": 4,
 "nbformat_minor": 2
}
